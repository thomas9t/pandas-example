{
 "cells": [
  {
   "cell_type": "markdown",
   "metadata": {},
   "source": [
    "# Pandas and NumPy by Example\n",
    "\n",
    "## Quick Intro:\n",
    "\n",
    "### What?\n",
    "\n",
    "The \"Scientific Python\" stack (SciPy) is a suite of libraries for scientific and numerical computing in Python. The key components are:\n",
    "\n",
    "1. **NumPy** - Array processing and linear algebra primitives\n",
    "2. **SciPy** - The MATLAB of Python. High level interfaces for scientific computing (optimization, statistics, etc...)\n",
    "3. **Pandas** - The R of Python. Data processing and basic analysis\n",
    "4. **Matplotlib** - Plotting and visualization\n",
    "5. **SymPy** - Symbolic math\n",
    "\n",
    "### Why?\n",
    "\n",
    "SciPy pretty much emulates the functionality to MATLAB and R - so why should we both using it? \n",
    "\n",
    "MATLAB and R were developed decades ago by statisticians for prototyping new algorithms. They're great if you want to do a bunch of linear algebra, but...\n",
    "\n",
    "1. Serious implementation inefficiencies - data copying\n",
    "2. Clunky programming model - Support for OOP is weak, lots of arcane restrictions\n",
    "3. Lack of support for data structures - hash maps? queues? stacks?\n",
    "4. Limited capabilities outside of numerical computing\n",
    "\n",
    "In a nutshell: Python is a serious programming language with diverse applications. It provides hands down the best potential to integrate numerical computing with other applications. E.g. Web server based on Flask can easily run NumPy code.\n",
    "\n",
    "### Key Programming Concepts\n",
    "\n",
    "**Vectorize your code!**"
   ]
  },
  {
   "cell_type": "code",
   "execution_count": 1,
   "metadata": {
    "collapsed": true
   },
   "outputs": [],
   "source": [
    "import os\n",
    "import multiprocessing as mp\n",
    "\n",
    "import numpy as np\n",
    "import pandas as pd\n",
    "import matplotlib.pyplot as plt"
   ]
  },
  {
   "cell_type": "markdown",
   "metadata": {},
   "source": [
    "## Pandas Basics\n",
    "\n",
    "* All Pandas data structures are built on top of NumPy arrays.\n",
    "* The core data structure in Pandas is the `DataFrame`.\n",
    "* A Pandas `DataFrame` is a 2-D array of heterogeneously typed data - basically just like an SQL table.\n",
    "* The columns of a dataframe represent measured variables. The rows represent observations (measurements) of those variables.\n",
    "* A `DataFrame` is typically constructed by reading from an external data source. Pandas provides a robust suite of IO tools which support reading from many common data exchange formats: CSV files, HDF5, Apache Parquet, SQL Database, and many more! See the IO [documentation](https://pandas.pydata.org/pandas-docs/stable/io.html) for more information."
   ]
  },
  {
   "cell_type": "code",
   "execution_count": 2,
   "metadata": {},
   "outputs": [],
   "source": [
    "# Here we'll read data from a CSV file. Note that Pandas can uncompress on the fly.\n",
    "# Note as well that we specify the data type for one column by hand to prevent it from being\n",
    "# interpreted as a float. 'O' = 'Object' = String\n",
    "air = pd.read_csv('air_quality.csv.gz', sep=';', thousands='.', decimal=',', dtype={'Time': 'O'})"
   ]
  },
  {
   "cell_type": "code",
   "execution_count": 3,
   "metadata": {},
   "outputs": [
    {
     "name": "stdout",
     "output_type": "stream",
     "text": [
      "         Date      Time  CO(GT)  PT08.S1(CO)  NMHC(GT)  C6H6(GT)  \\\n",
      "0  10/03/2004  18.00.00     2.6       1360.0     150.0      11.9   \n",
      "1  10/03/2004  19.00.00     2.0       1292.0     112.0       9.4   \n",
      "2  10/03/2004  20.00.00     2.2       1402.0      88.0       9.0   \n",
      "3  10/03/2004  21.00.00     2.2       1376.0      80.0       9.2   \n",
      "4  10/03/2004  22.00.00     1.6       1272.0      51.0       6.5   \n",
      "\n",
      "   PT08.S2(NMHC)  NOx(GT)  PT08.S3(NOx)  NO2(GT)  PT08.S4(NO2)  PT08.S5(O3)  \\\n",
      "0         1046.0    166.0        1056.0    113.0        1692.0       1268.0   \n",
      "1          955.0    103.0        1174.0     92.0        1559.0        972.0   \n",
      "2          939.0    131.0        1140.0    114.0        1555.0       1074.0   \n",
      "3          948.0    172.0        1092.0    122.0        1584.0       1203.0   \n",
      "4          836.0    131.0        1205.0    116.0        1490.0       1110.0   \n",
      "\n",
      "      T    RH      AH  Unnamed: 15  Unnamed: 16  \n",
      "0  13.6  48.9  0.7578          NaN          NaN  \n",
      "1  13.3  47.7  0.7255          NaN          NaN  \n",
      "2  11.9  54.0  0.7502          NaN          NaN  \n",
      "3  11.0  60.0  0.7867          NaN          NaN  \n",
      "4  11.2  59.6  0.7888          NaN          NaN  \n"
     ]
    }
   ],
   "source": [
    "# Let's see what we just read in:\n",
    "print air.head()  # prints the first few rows of data"
   ]
  },
  {
   "cell_type": "code",
   "execution_count": 4,
   "metadata": {},
   "outputs": [
    {
     "name": "stdout",
     "output_type": "stream",
     "text": [
      "Date              object\n",
      "Time              object\n",
      "CO(GT)           float64\n",
      "PT08.S1(CO)      float64\n",
      "NMHC(GT)         float64\n",
      "C6H6(GT)         float64\n",
      "PT08.S2(NMHC)    float64\n",
      "NOx(GT)          float64\n",
      "PT08.S3(NOx)     float64\n",
      "NO2(GT)          float64\n",
      "PT08.S4(NO2)     float64\n",
      "PT08.S5(O3)      float64\n",
      "T                float64\n",
      "RH               float64\n",
      "AH               float64\n",
      "Unnamed: 15      float64\n",
      "Unnamed: 16      float64\n",
      "dtype: object\n"
     ]
    }
   ],
   "source": [
    "print air.dtypes  # prints the NumPy storage type for each column"
   ]
  },
  {
   "cell_type": "code",
   "execution_count": 5,
   "metadata": {},
   "outputs": [
    {
     "name": "stdout",
     "output_type": "stream",
     "text": [
      "            CO(GT)  PT08.S1(CO)     NMHC(GT)     C6H6(GT)  PT08.S2(NMHC)  \\\n",
      "count  9357.000000  9357.000000  9357.000000  9357.000000    9357.000000   \n",
      "mean    -34.207524  1048.990061  -159.090093     1.865683     894.595276   \n",
      "std      77.657170   329.832710   139.789093    41.380206     342.333252   \n",
      "min    -200.000000  -200.000000  -200.000000  -200.000000    -200.000000   \n",
      "25%       0.600000   921.000000  -200.000000     4.000000     711.000000   \n",
      "50%       1.500000  1053.000000  -200.000000     7.900000     895.000000   \n",
      "75%       2.600000  1221.000000  -200.000000    13.600000    1105.000000   \n",
      "max      11.900000  2040.000000  1189.000000    63.700000    2214.000000   \n",
      "\n",
      "           NOx(GT)  PT08.S3(NOx)      NO2(GT)  PT08.S4(NO2)  PT08.S5(O3)  \\\n",
      "count  9357.000000   9357.000000  9357.000000   9357.000000  9357.000000   \n",
      "mean    168.616971    794.990168    58.148873   1391.479641   975.072032   \n",
      "std     257.433866    321.993552   126.940455    467.210125   456.938184   \n",
      "min    -200.000000   -200.000000  -200.000000   -200.000000  -200.000000   \n",
      "25%      50.000000    637.000000    53.000000   1185.000000   700.000000   \n",
      "50%     141.000000    794.000000    96.000000   1446.000000   942.000000   \n",
      "75%     284.000000    960.000000   133.000000   1662.000000  1255.000000   \n",
      "max    1479.000000   2683.000000   340.000000   2775.000000  2523.000000   \n",
      "\n",
      "                 T           RH           AH  Unnamed: 15  Unnamed: 16  \n",
      "count  9357.000000  9357.000000  9357.000000          0.0          0.0  \n",
      "mean      9.778305    39.485380    -6.837604          NaN          NaN  \n",
      "std      43.203623    51.216145    38.976670          NaN          NaN  \n",
      "min    -200.000000  -200.000000  -200.000000          NaN          NaN  \n",
      "25%      10.900000    34.100000     0.692300          NaN          NaN  \n",
      "50%      17.200000    48.600000     0.976800          NaN          NaN  \n",
      "75%      24.100000    61.900000     1.296200          NaN          NaN  \n",
      "max      44.600000    88.700000     2.231000          NaN          NaN  \n"
     ]
    }
   ],
   "source": [
    "print air.describe()  # prints summary statistics about each numeric column"
   ]
  },
  {
   "cell_type": "code",
   "execution_count": 6,
   "metadata": {},
   "outputs": [
    {
     "name": "stdout",
     "output_type": "stream",
     "text": [
      "         Date      Time  CO(GT)  PT08.S1(CO)  NMHC(GT)  C6H6(GT)  \\\n",
      "0  10/03/2004  18.00.00     2.6       1360.0     150.0      11.9   \n",
      "1  10/03/2004  19.00.00     2.0       1292.0     112.0       9.4   \n",
      "2  10/03/2004  20.00.00     2.2       1402.0      88.0       9.0   \n",
      "3  10/03/2004  21.00.00     2.2       1376.0      80.0       9.2   \n",
      "4  10/03/2004  22.00.00     1.6       1272.0      51.0       6.5   \n",
      "\n",
      "   PT08.S2(NMHC)  NOx(GT)  PT08.S3(NOx)  NO2(GT)  PT08.S4(NO2)  PT08.S5(O3)  \\\n",
      "0         1046.0    166.0        1056.0    113.0        1692.0       1268.0   \n",
      "1          955.0    103.0        1174.0     92.0        1559.0        972.0   \n",
      "2          939.0    131.0        1140.0    114.0        1555.0       1074.0   \n",
      "3          948.0    172.0        1092.0    122.0        1584.0       1203.0   \n",
      "4          836.0    131.0        1205.0    116.0        1490.0       1110.0   \n",
      "\n",
      "      T    RH      AH  \n",
      "0  13.6  48.9  0.7578  \n",
      "1  13.3  47.7  0.7255  \n",
      "2  11.9  54.0  0.7502  \n",
      "3  11.0  60.0  0.7867  \n",
      "4  11.2  59.6  0.7888  \n"
     ]
    }
   ],
   "source": [
    "# There are two columns which contain entirely missing values\n",
    "# Let's drop them.\n",
    "\n",
    "not_all_null = air.count() > 0\n",
    "air = air.loc[:,not_all_null]  # using a boolean mask to extract a subset of columns\n",
    "print air.head()"
   ]
  },
  {
   "cell_type": "code",
   "execution_count": 7,
   "metadata": {},
   "outputs": [
    {
     "name": "stdout",
     "output_type": "stream",
     "text": [
      "         Date      Time  CO(GT)  NMHC(GT)  C6H6(GT)  NOx(GT)  NO2(GT)     T  \\\n",
      "0  10/03/2004  18.00.00     2.6     150.0      11.9    166.0    113.0  13.6   \n",
      "1  10/03/2004  19.00.00     2.0     112.0       9.4    103.0     92.0  13.3   \n",
      "2  10/03/2004  20.00.00     2.2      88.0       9.0    131.0    114.0  11.9   \n",
      "3  10/03/2004  21.00.00     2.2      80.0       9.2    172.0    122.0  11.0   \n",
      "4  10/03/2004  22.00.00     1.6      51.0       6.5    131.0    116.0  11.2   \n",
      "\n",
      "     RH      AH  \n",
      "0  48.9  0.7578  \n",
      "1  47.7  0.7255  \n",
      "2  54.0  0.7502  \n",
      "3  60.0  0.7867  \n",
      "4  59.6  0.7888  \n"
     ]
    }
   ],
   "source": [
    "# For simplicity, we can also just keep the \"ground truth\" values used to calibrate the sensors\n",
    "cols_to_drop = filter(lambda x: 'PT08' in x, air.columns)\n",
    "air = air.drop(cols_to_drop, axis='columns')\n",
    "print air.head()"
   ]
  },
  {
   "cell_type": "code",
   "execution_count": 8,
   "metadata": {},
   "outputs": [
    {
     "name": "stdout",
     "output_type": "stream",
     "text": [
      "0    10/03/2004 18:00:00\n",
      "1    10/03/2004 19:00:00\n",
      "2    10/03/2004 20:00:00\n",
      "3    10/03/2004 21:00:00\n",
      "4    10/03/2004 22:00:00\n",
      "Name: Date, dtype: object\n"
     ]
    }
   ],
   "source": [
    "# Our dataset is a time series - that is several variables observed repeatedly over time\n",
    "# Right now the \"Date\" and \"Time\" variables are are stored as Python strings.\n",
    "# This isn't very useful so let's convert them to a type Pandas can understand\n",
    "\n",
    "# First let's concatenate the 'Date' and 'Time' strings into a single vector which\n",
    "# Pandas can parse into dates.\n",
    "\n",
    "# We can use the syntax `dataframe[column_name]` to extract a single column from a dataframe\n",
    "# An individual column is a `Series` object which represents a vector\n",
    "\n",
    "# String columns have a `.str` attribute which exposes text processing methods.\n",
    "# See: http://pandas.pydata.org/pandas-docs/stable/text.html for more detail\n",
    "\n",
    "datetime = air['Date'].str.cat(air['Time'].str.replace('.',':'), sep=' ')\n",
    "print datetime.head()"
   ]
  },
  {
   "cell_type": "code",
   "execution_count": 9,
   "metadata": {},
   "outputs": [
    {
     "name": "stdout",
     "output_type": "stream",
     "text": [
      "0   2004-03-10 18:00:00\n",
      "1   2004-03-10 19:00:00\n",
      "2   2004-03-10 20:00:00\n",
      "3   2004-03-10 21:00:00\n",
      "4   2004-03-10 22:00:00\n",
      "Name: timestamp, dtype: datetime64[ns]\n"
     ]
    }
   ],
   "source": [
    "# We can use the same syntax `dataframe[new_column_name]` to add a column to a DataFrame\n",
    "# We use the `to_datetime()` function to convert the string date into a timestamp that Pandas can understand.\n",
    "\n",
    "# We can instruct Pandas how to parse dates using the standard Python strftime directives\n",
    "\n",
    "# See: https://docs.python.org/2/library/datetime.html#strftime-and-strptime-behavior\n",
    "# for more detail on how Python parses dates\n",
    "\n",
    "air['timestamp'] = pd.to_datetime(datetime, format='%d/%m/%Y %H:%M:%S')\n",
    "print air['timestamp'].head()"
   ]
  },
  {
   "cell_type": "markdown",
   "metadata": {},
   "source": [
    "## Indexes\n",
    "\n",
    "Indexes are an important concept in Pandas. An index represents a label for the observations in a `DataFrame` or `Series`. Indexes provide an efficient, intuitive, way to extract subsets of data. \n",
    "\n",
    "**Indexes enforce consistency of data**\n",
    "\n",
    "Every data frame should have a \"primary key,\" or set of non-null variables which uniquely identify an observation. Enforcing a primary key helps avoid confusion about the contents of data. Consider the following example (from [here](https://web.stanford.edu/~gentzkow/research/CodeAndData.pdf)):\n",
    "\n",
    "|state_abbrv|county_code|county_pop|\n",
    "|:---------:|:---------:|:--------:|\n",
    "|CA|30982|132,982|\n",
    "|CA|20985|12,287|\n",
    "|CA|30982|132,287|\n",
    "|CA|NULL|1,498,287|\n",
    "\n",
    "This table contains several red flags: first `county_code = 30982` appears twice but with different populations. Which one is correct? If this is a dataset about conties, what does it mean for a county to be `NULL`? If we select `{state_abbrv,county_code}` as our primary key and ask Pandas to check that it uniquely identifies observations these issues will be flagged for us. Otherwise, we could unwittingly feed invalid data into our statistical model. \n",
    "\n",
    "Let's see some examples. \n",
    "\n",
    "In our case, each observation is uniquely identified by a time stamp. The `timestamp` variable is a natural way to index our data. Note that, in general, indexes do not need to be unique."
   ]
  },
  {
   "cell_type": "code",
   "execution_count": 10,
   "metadata": {},
   "outputs": [
    {
     "name": "stderr",
     "output_type": "stream",
     "text": [
      "/home/ahthomas/miniconda2/lib/python2.7/site-packages/pandas/core/indexes/base.py:1582: FutureWarning: In the future, 'NAT == x' and 'x == NAT' will always be False.\n",
      "  counter[k] += 1\n"
     ]
    },
    {
     "ename": "ValueError",
     "evalue": "Index has duplicate keys: DatetimeIndex(['NaT'], dtype='datetime64[ns]', freq=None)",
     "output_type": "error",
     "traceback": [
      "\u001b[0;31m---------------------------------------------------------------------------\u001b[0m",
      "\u001b[0;31mValueError\u001b[0m                                Traceback (most recent call last)",
      "\u001b[0;32m<ipython-input-10-c79be74ddb83>\u001b[0m in \u001b[0;36m<module>\u001b[0;34m()\u001b[0m\n\u001b[1;32m      1\u001b[0m \u001b[0;31m# First we tell Pandas which column we want to use as an index\u001b[0m\u001b[0;34m\u001b[0m\u001b[0;34m\u001b[0m\u001b[0m\n\u001b[0;32m----> 2\u001b[0;31m \u001b[0mair\u001b[0m \u001b[0;34m=\u001b[0m \u001b[0mair\u001b[0m\u001b[0;34m.\u001b[0m\u001b[0mset_index\u001b[0m\u001b[0;34m(\u001b[0m\u001b[0;34m'timestamp'\u001b[0m\u001b[0;34m,\u001b[0m \u001b[0mverify_integrity\u001b[0m\u001b[0;34m=\u001b[0m\u001b[0mTrue\u001b[0m\u001b[0;34m)\u001b[0m  \u001b[0;31m# verify integrity asserts that the index is unique\u001b[0m\u001b[0;34m\u001b[0m\u001b[0m\n\u001b[0m",
      "\u001b[0;32m/home/ahthomas/miniconda2/lib/python2.7/site-packages/pandas/core/frame.pyc\u001b[0m in \u001b[0;36mset_index\u001b[0;34m(self, keys, drop, append, inplace, verify_integrity)\u001b[0m\n\u001b[1;32m   3154\u001b[0m         \u001b[0;32mif\u001b[0m \u001b[0mverify_integrity\u001b[0m \u001b[0;32mand\u001b[0m \u001b[0;32mnot\u001b[0m \u001b[0mindex\u001b[0m\u001b[0;34m.\u001b[0m\u001b[0mis_unique\u001b[0m\u001b[0;34m:\u001b[0m\u001b[0;34m\u001b[0m\u001b[0m\n\u001b[1;32m   3155\u001b[0m             \u001b[0mduplicates\u001b[0m \u001b[0;34m=\u001b[0m \u001b[0mindex\u001b[0m\u001b[0;34m.\u001b[0m\u001b[0mget_duplicates\u001b[0m\u001b[0;34m(\u001b[0m\u001b[0;34m)\u001b[0m\u001b[0;34m\u001b[0m\u001b[0m\n\u001b[0;32m-> 3156\u001b[0;31m             \u001b[0;32mraise\u001b[0m \u001b[0mValueError\u001b[0m\u001b[0;34m(\u001b[0m\u001b[0;34m'Index has duplicate keys: %s'\u001b[0m \u001b[0;34m%\u001b[0m \u001b[0mduplicates\u001b[0m\u001b[0;34m)\u001b[0m\u001b[0;34m\u001b[0m\u001b[0m\n\u001b[0m\u001b[1;32m   3157\u001b[0m \u001b[0;34m\u001b[0m\u001b[0m\n\u001b[1;32m   3158\u001b[0m         \u001b[0;32mfor\u001b[0m \u001b[0mc\u001b[0m \u001b[0;32min\u001b[0m \u001b[0mto_remove\u001b[0m\u001b[0;34m:\u001b[0m\u001b[0;34m\u001b[0m\u001b[0m\n",
      "\u001b[0;31mValueError\u001b[0m: Index has duplicate keys: DatetimeIndex(['NaT'], dtype='datetime64[ns]', freq=None)"
     ]
    }
   ],
   "source": [
    "# First we tell Pandas which column we want to use as an index\n",
    "air = air.set_index('timestamp', verify_integrity=True)  # verify integrity asserts that the index is unique"
   ]
  },
  {
   "cell_type": "code",
   "execution_count": 11,
   "metadata": {},
   "outputs": [
    {
     "name": "stdout",
     "output_type": "stream",
     "text": [
      "     Date Time  CO(GT)  NMHC(GT)  C6H6(GT)  NOx(GT)  NO2(GT)   T  RH  AH  \\\n",
      "9357  NaN  NaN     NaN       NaN       NaN      NaN      NaN NaN NaN NaN   \n",
      "9358  NaN  NaN     NaN       NaN       NaN      NaN      NaN NaN NaN NaN   \n",
      "9359  NaN  NaN     NaN       NaN       NaN      NaN      NaN NaN NaN NaN   \n",
      "9360  NaN  NaN     NaN       NaN       NaN      NaN      NaN NaN NaN NaN   \n",
      "9361  NaN  NaN     NaN       NaN       NaN      NaN      NaN NaN NaN NaN   \n",
      "\n",
      "     timestamp  \n",
      "9357       NaT  \n",
      "9358       NaT  \n",
      "9359       NaT  \n",
      "9360       NaT  \n",
      "9361       NaT  \n"
     ]
    }
   ],
   "source": [
    "# But wait! Timestamp is not unique! Since this is a time-series what does a duplicate time value mean?\n",
    "# We need to address this issue before continuing with our analysis...\n",
    "\n",
    "# The error message is telling us that there were multiple dates which could not be parsed.\n",
    "# Let's look at these observations:\n",
    "\n",
    "print air.loc[air['timestamp'].isnull(),:].head()"
   ]
  },
  {
   "cell_type": "code",
   "execution_count": 12,
   "metadata": {
    "collapsed": true
   },
   "outputs": [],
   "source": [
    "# So these were just cases in which all data was missing. Let's just drop these rows.\n",
    "air = air.loc[np.logical_not(air['timestamp'].isnull()),:]"
   ]
  },
  {
   "cell_type": "code",
   "execution_count": 13,
   "metadata": {},
   "outputs": [
    {
     "name": "stdout",
     "output_type": "stream",
     "text": [
      "DatetimeIndex(['2004-03-10 18:00:00', '2004-03-10 19:00:00',\n",
      "               '2004-03-10 20:00:00', '2004-03-10 21:00:00',\n",
      "               '2004-03-10 22:00:00', '2004-03-10 23:00:00',\n",
      "               '2004-03-11 00:00:00', '2004-03-11 01:00:00',\n",
      "               '2004-03-11 02:00:00', '2004-03-11 03:00:00',\n",
      "               ...\n",
      "               '2005-04-04 05:00:00', '2005-04-04 06:00:00',\n",
      "               '2005-04-04 07:00:00', '2005-04-04 08:00:00',\n",
      "               '2005-04-04 09:00:00', '2005-04-04 10:00:00',\n",
      "               '2005-04-04 11:00:00', '2005-04-04 12:00:00',\n",
      "               '2005-04-04 13:00:00', '2005-04-04 14:00:00'],\n",
      "              dtype='datetime64[ns]', name=u'timestamp', length=9357, freq=None)\n"
     ]
    }
   ],
   "source": [
    "# Now we can use `timestamp' as a valid index\n",
    "air = air.set_index('timestamp', verify_integrity=True)\n",
    "print air.index"
   ]
  },
  {
   "cell_type": "code",
   "execution_count": 14,
   "metadata": {
    "collapsed": true
   },
   "outputs": [],
   "source": [
    "# Now we can drop the redundant columns to save memory\n",
    "cols_to_drop = ['Date','Time']\n",
    "air = air.drop(cols_to_drop, axis='columns')"
   ]
  },
  {
   "cell_type": "code",
   "execution_count": 15,
   "metadata": {},
   "outputs": [
    {
     "name": "stdout",
     "output_type": "stream",
     "text": [
      "timestamp\n",
      "2004-03-10 18:00:00    2.6\n",
      "2004-03-10 19:00:00    2.0\n",
      "2004-03-10 20:00:00    2.2\n",
      "2004-03-10 21:00:00    2.2\n",
      "2004-03-10 22:00:00    1.6\n",
      "Name: CO(GT), dtype: float64\n"
     ]
    }
   ],
   "source": [
    "# The index provides a convenient way to slice observations\n",
    "air = air.sort_index()\n",
    "print air.loc['2004-03-01':'2004-03-10','CO(GT)'].head()"
   ]
  },
  {
   "cell_type": "code",
   "execution_count": 16,
   "metadata": {},
   "outputs": [
    {
     "name": "stdout",
     "output_type": "stream",
     "text": [
      "timestamp\n",
      "2004-03-10 19:00:00    2.0\n",
      "2004-03-10 20:00:00    2.2\n",
      "2004-03-10 21:00:00    2.2\n",
      "2004-03-10 22:00:00    1.6\n",
      "2004-03-10 23:00:00    1.2\n",
      "Name: CO(GT), dtype: float64\n"
     ]
    }
   ],
   "source": [
    "print air.loc['2004-03-01':'2004-03-10','CO(GT)'].tail()"
   ]
  },
  {
   "cell_type": "markdown",
   "metadata": {},
   "source": [
    "## Visualization\n",
    "\n",
    "One of the big strengths of Pandas is its robust support for plotting and visualization through Matplotlib. Let's look at some examples of Pandas visualization capabilities."
   ]
  },
  {
   "cell_type": "code",
   "execution_count": 17,
   "metadata": {},
   "outputs": [
    {
     "data": {
      "image/png": "[encoded data removed]",
      "text/plain": [
       "<matplotlib.figure.Figure at 0x7fd63d6a2b50>"
      ]
     },
     "metadata": {},
     "output_type": "display_data"
    }
   ],
   "source": [
    "# We'll plot CO2 concentration during the month of January\n",
    "# We can use the \"resample\" method to aggregate data to the daily level\n",
    "\n",
    "ax = air.loc['2004-06-01':'2004-08-31',:].resample('D').mean().plot(legend=False, ax=None)\n",
    "plt.legend(loc='center left', bbox_to_anchor=(1,0.5))\n",
    "ax.set_xlabel('Date')\n",
    "ax.set_ylabel(r'CO Concentration')\n",
    "plt.show()"
   ]
  },
  {
   "cell_type": "markdown",
   "metadata": {},
   "source": [
    "## Grouping and Aggregation\n",
    "\n",
    "It's very common to need to compute summary values by some grouping variable. Pandas provides the `groupby()` method which functions similarly to the `GROUP BY` clause in SQL. We'll look at a simple example of Pandas groupby to do missing value imputation. For a more exhaustive description of what you can do with groupby see the Pandas guide ([link](https://pandas.pydata.org/pandas-docs/stable/groupby.html))."
   ]
  },
  {
   "cell_type": "code",
   "execution_count": 18,
   "metadata": {},
   "outputs": [
    {
     "name": "stdout",
     "output_type": "stream",
     "text": [
      "               CO(GT)  NMHC(GT)   C6H6(GT)     NOx(GT)     NO2(GT)          T  \\\n",
      "month hour                                                                      \n",
      "1     0    -19.079310    -200.0 -21.627586  268.758621  114.000000 -21.234483   \n",
      "      1    -26.141379    -200.0 -15.817241  225.586207  111.758621 -14.106897   \n",
      "      2     -6.188889    -200.0 -10.703704  196.037037   99.481481  -8.440741   \n",
      "      3    -28.574074    -200.0  -3.877778 -200.000000 -200.000000  -1.429630   \n",
      "      4    -73.462963    -200.0  -4.525926  123.481481   73.555556  -1.596296   \n",
      "\n",
      "                   RH         AH  \n",
      "month hour                        \n",
      "1     0     24.675862 -27.028638  \n",
      "      1     33.582759 -20.105614  \n",
      "      2     43.055556 -14.209789  \n",
      "      3     53.337037  -6.805652  \n",
      "      4     52.081481  -6.823448  \n"
     ]
    }
   ],
   "source": [
    "# Just for fun let's pretend our sensor punked out sometimes and we needed to\n",
    "# impute the missing values. We simulate random 10% missing data\n",
    "# and then impute these values at their conditional mean given month\n",
    "# and hour of day\n",
    "\n",
    "air.loc[np.random.rand(air.shape[0],1).ravel() > 0.9,:] = np.nan\n",
    "\n",
    "air['month'] = air.index.map(lambda x: x.month)\n",
    "air['hour'] = air.index.map(lambda x: x.hour)\n",
    "mean_values = air.groupby(['month','hour']).mean()  # There are lots of other groupby methods (e.g. sum, var, etc...)\n",
    "\n",
    "# Now we'll create a full time series using the imputed mean values...\n",
    "# Note the use of the 'join' method to zip the two dataframes by their index\n",
    "\n",
    "all_dates = pd.date_range(air.index.min(), air.index.max(), freq='H')\n",
    "ts = pd.DataFrame(data={'timestamp': all_dates,\n",
    "                        'month': all_dates.map(lambda x: x.month),\n",
    "                        'hour': all_dates.map(lambda x: x.hour)}\n",
    "                 ).set_index(\n",
    "                     'timestamp'\n",
    "                 ).join(\n",
    "                     mean_values, on=['month','hour'], how='inner'\n",
    "                 ).sort_index()\n",
    "\n",
    "print mean_values.head()"
   ]
  },
  {
   "cell_type": "code",
   "execution_count": 19,
   "metadata": {},
   "outputs": [
    {
     "name": "stdout",
     "output_type": "stream",
     "text": [
      "[(1, 1.6), (2, 1.7), (3, 1.8), (4, 1.1), (5, 1.4), (6, 1.6), (7, 1.1), (8, 0.8), (9, 1.4), (10, 0.8), (11, 2.2), (12, 2.1)]\n"
     ]
    }
   ],
   "source": [
    "# we can also iterate through groups operating on them independently.\n",
    "# This is a good way to \"chunk\" a dataset which is sometimes useful\n",
    "# for parallel processing. Here's an example of computing group medians\n",
    "# in parallel. This is also a nice example of how easy parallel processing\n",
    "# is in Python.\n",
    "\n",
    "def worker_fn(group):\n",
    "    # the objects returned by a groupby iterator\n",
    "    # consist of tuple of (name, data)\n",
    "    name, data = group\n",
    "    return (name, data['CO(GT)'].quantile())\n",
    "\n",
    "p = mp.Pool(2)  # creates a thread pool containing two workers\n",
    "quantiles = p.map(worker_fn, air.loc[:,['month','CO(GT)']].groupby('month'))\n",
    "p.close()\n",
    "\n",
    "print quantiles"
   ]
  },
  {
   "cell_type": "code",
   "execution_count": 20,
   "metadata": {
    "collapsed": true
   },
   "outputs": [],
   "source": [
    "# Now we can use our imputed values to replace missing data\n",
    "air = air.join(ts, how='right', rsuffix='_imputed')"
   ]
  },
  {
   "cell_type": "code",
   "execution_count": 21,
   "metadata": {},
   "outputs": [],
   "source": [
    "names = filter(lambda x: '_imputed' in x, air.columns)\n",
    "names = filter(lambda x: 'hour' not in x and 'month' not in x, names)\n",
    "for n in names:\n",
    "    bn = n.replace('_imputed','')\n",
    "    air.loc[:,bn] = air.loc[:,bn].fillna(air[n])\n",
    "air = air.loc[:,map(lambda x: x.replace('_imputed',''), names)]"
   ]
  },
  {
   "cell_type": "code",
   "execution_count": 22,
   "metadata": {
    "collapsed": true
   },
   "outputs": [],
   "source": [
    "# Now that we have our nice data set \n",
    "# let's export it to NumPy so we can do something with it!\n",
    "air.to_csv('clean_air_data.csv')"
   ]
  }
 ],
 "metadata": {
  "kernelspec": {
   "display_name": "Python 2",
   "language": "python",
   "name": "python2"
  },
  "language_info": {
   "codemirror_mode": {
    "name": "ipython",
    "version": 2
   },
   "file_extension": ".py",
   "mimetype": "text/x-python",
   "name": "python",
   "nbconvert_exporter": "python",
   "pygments_lexer": "ipython2",
   "version": "2.7.14"
  }
 },
 "nbformat": 4,
 "nbformat_minor": 2
}
